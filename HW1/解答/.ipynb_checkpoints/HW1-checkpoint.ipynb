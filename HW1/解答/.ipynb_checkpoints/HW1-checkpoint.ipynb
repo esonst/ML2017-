{
 "cells": [
  {
   "cell_type": "code",
   "execution_count": 26,
   "metadata": {},
   "outputs": [],
   "source": [
    "import csv \n",
    "import numpy as np\n",
    "from numpy.linalg import inv\n",
    "import random\n",
    "import math\n",
    "import sys"
   ]
  },
  {
   "cell_type": "markdown",
   "metadata": {},
   "source": [
    "## read data"
   ]
  },
  {
   "cell_type": "code",
   "execution_count": 27,
   "metadata": {},
   "outputs": [],
   "source": [
    "data=[]\n",
    "for i in range(18):\n",
    "    data.append([])\n",
    "n_row = 0\n",
    "with open(r'../题目/train.csv', 'r', encoding='big5') as text: \n",
    "    row = csv.reader(text , delimiter=\",\")\n",
    "    for r in row:\n",
    "        # 第0列沒有資訊\n",
    "        if n_row != 0:\n",
    "            # 每一列只有第3-27格有值(1天內24小時的數值)\n",
    "            for i in range(3,27):\n",
    "                if r[i] != \"NR\":\n",
    "                    data[(n_row-1)%18].append(float(r[i]))\n",
    "                else:\n",
    "                    data[(n_row-1)%18].append(float(0))\t\n",
    "        n_row = n_row+1"
   ]
  },
  {
   "cell_type": "markdown",
   "metadata": {},
   "source": [
    "## parse data to (x,y)"
   ]
  },
  {
   "cell_type": "code",
   "execution_count": 33,
   "metadata": {},
   "outputs": [],
   "source": [
    "x=[]\n",
    "y=[]\n",
    "for i in range(12):\n",
    "    for j in range(471):\n",
    "        x.append([])\n",
    "        for t in range(18):\n",
    "            for s in range(9):\n",
    "                x[471*i+j].append(data[t][480*i+j+s])\n",
    "        y.append(data[9][480*i+j+9])\n",
    "x=np.array(x)\n",
    "y=np.array(y)"
   ]
  },
  {
   "cell_type": "markdown",
   "metadata": {},
   "source": [
    "## init weight & other hyperparams"
   ]
  },
  {
   "cell_type": "code",
   "execution_count": 36,
   "metadata": {},
   "outputs": [],
   "source": [
    "w=np.zeros(len(x[0]))\n",
    "l_rate=10\n",
    "repeat=10000"
   ]
  },
  {
   "cell_type": "markdown",
   "metadata": {},
   "source": [
    "## check your ans with close form solution"
   ]
  },
  {
   "cell_type": "code",
   "execution_count": 37,
   "metadata": {},
   "outputs": [],
   "source": [
    "# use close form to check whether ur gradient descent is good\n",
    "# however, this cannot be used in hw1.sh \n",
    "# w = np.matmul(np.matmul(inv(np.matmul(x.transpose(),x)),x.transpose()),y)"
   ]
  },
  {
   "cell_type": "markdown",
   "metadata": {},
   "source": [
    "## start training"
   ]
  },
  {
   "cell_type": "code",
   "execution_count": 46,
   "metadata": {},
   "outputs": [],
   "source": [
    "x_t=x.transpose()\n",
    "s_gra=np.zeros(len(x[0]))"
   ]
  },
  {
   "cell_type": "code",
   "execution_count": 41,
   "metadata": {},
   "outputs": [
    {
     "data": {
      "text/plain": [
       "(162, 5652)"
      ]
     },
     "execution_count": 41,
     "metadata": {},
     "output_type": "execute_result"
    }
   ],
   "source": [
    "x_t.shape"
   ]
  },
  {
   "cell_type": "code",
   "execution_count": 44,
   "metadata": {},
   "outputs": [
    {
     "data": {
      "text/plain": [
       "(5652, 162)"
      ]
     },
     "execution_count": 44,
     "metadata": {},
     "output_type": "execute_result"
    }
   ],
   "source": [
    "x.shape"
   ]
  },
  {
   "cell_type": "code",
   "execution_count": 45,
   "metadata": {},
   "outputs": [
    {
     "data": {
      "text/plain": [
       "(5652,)"
      ]
     },
     "execution_count": 45,
     "metadata": {},
     "output_type": "execute_result"
    }
   ],
   "source": [
    "y.shape"
   ]
  },
  {
   "cell_type": "code",
   "execution_count": null,
   "metadata": {},
   "outputs": [],
   "source": []
  }
 ],
 "metadata": {
  "kernelspec": {
   "display_name": "Python 3",
   "language": "python",
   "name": "python3"
  },
  "language_info": {
   "codemirror_mode": {
    "name": "ipython",
    "version": 3
   },
   "file_extension": ".py",
   "mimetype": "text/x-python",
   "name": "python",
   "nbconvert_exporter": "python",
   "pygments_lexer": "ipython3",
   "version": "3.6.3"
  }
 },
 "nbformat": 4,
 "nbformat_minor": 2
}
